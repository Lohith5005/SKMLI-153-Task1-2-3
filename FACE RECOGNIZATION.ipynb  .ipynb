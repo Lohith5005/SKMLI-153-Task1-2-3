{
 "cells": [
  {
   "cell_type": "code",
   "execution_count": null,
   "id": "b4e565b7",
   "metadata": {},
   "outputs": [],
   "source": [
    "pip install opencv-python dlib face_recognition\n"
   ]
  },
  {
   "cell_type": "code",
   "execution_count": null,
   "id": "86392865",
   "metadata": {},
   "outputs": [],
   "source": [
    "import cv2\n",
    "import face_recognition\n",
    "import os\n",
    "\n",
    "# Function to encode faces from the training dataset\n",
    "def encode_faces(dataset_path):\n",
    "    known_face_encodings = []\n",
    "    known_face_names = []\n",
    "    \n",
    "    for image_name in os.listdir(dataset_path):\n",
    "        image_path = os.path.join(dataset_path, image_name)\n",
    "        image = face_recognition.load_image_file(image_path)\n",
    "        encoding = face_recognition.face_encodings(image)[0]\n",
    "        known_face_encodings.append(encoding)\n",
    "        known_face_names.append(os.path.splitext(image_name)[0])\n",
    "    \n",
    "    return known_face_encodings, known_face_names\n",
    "\n",
    "# Function to recognize faces in a given image\n",
    "def recognize_faces(image_path, known_face_encodings, known_face_names):\n",
    "    image = face_recognition.load_image_file(image_path)\n",
    "    face_locations = face_recognition.face_locations(image)\n",
    "    face_encodings = face_recognition.face_encodings(image, face_locations)\n",
    "\n",
    "    recognized_faces = []\n",
    "    \n",
    "    for (top, right, bottom, left), face_encoding in zip(face_locations, face_encodings):\n",
    "        matches = face_recognition.compare_faces(known_face_encodings, face_encoding)\n",
    "        name = \"Unknown\"\n",
    "\n",
    "        face_distances = face_recognition.face_distance(known_face_encodings, face_encoding)\n",
    "        best_match_index = min(range(len(face_distances)), key=lambda i: face_distances[i])\n",
    "        \n",
    "        if matches[best_match_index]:\n",
    "            name = known_face_names[best_match_index]\n",
    "\n",
    "        recognized_faces.append(name)\n",
    "\n",
    "        cv2.rectangle(image, (left, top), (right, bottom), (0, 0, 255), 2)\n",
    "        cv2.putText(image, name, (left, top - 10), cv2.FONT_HERSHEY_SIMPLEX, 0.9, (0, 0, 255), 2)\n",
    "    \n",
    "    return image, recognized_faces\n",
    "\n",
    "# Main code\n",
    "dataset_path = 'path/to/your/dataset'  # Path to the folder containing training images\n",
    "known_face_encodings, known_face_names = encode_faces(dataset_path)\n",
    "\n",
    "image_path = 'path/to/image.jpg'  # Path to the image you want to recognize faces in\n",
    "recognized_image, recognized_faces = recognize_faces(image_path, known_face_encodings, known_face_names)\n",
    "\n",
    "print(f\"Recognized faces: {recognized_faces}\")\n",
    "\n",
    "# Display the image with recognized faces\n",
    "cv2.imshow('Recognized Faces', recognized_image)\n",
    "cv2.waitKey(0)\n",
    "cv2.destroyAllWindows()\n"
   ]
  }
 ],
 "metadata": {
  "kernelspec": {
   "display_name": "Python 3 (ipykernel)",
   "language": "python",
   "name": "python3"
  },
  "language_info": {
   "codemirror_mode": {
    "name": "ipython",
    "version": 3
   },
   "file_extension": ".py",
   "mimetype": "text/x-python",
   "name": "python",
   "nbconvert_exporter": "python",
   "pygments_lexer": "ipython3",
   "version": "3.9.12"
  }
 },
 "nbformat": 4,
 "nbformat_minor": 5
}
